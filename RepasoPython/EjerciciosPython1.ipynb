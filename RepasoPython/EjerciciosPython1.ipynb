{
  "nbformat": 4,
  "nbformat_minor": 0,
  "metadata": {
    "colab": {
      "name": "EjerciciosPython1.ipynb",
      "provenance": [],
      "collapsed_sections": [],
      "include_colab_link": true
    },
    "kernelspec": {
      "display_name": "Python 3",
      "language": "python",
      "name": "python3"
    },
    "language_info": {
      "codemirror_mode": {
        "name": "ipython",
        "version": 3
      },
      "file_extension": ".py",
      "mimetype": "text/x-python",
      "name": "python",
      "nbconvert_exporter": "python",
      "pygments_lexer": "ipython3",
      "version": "3.7.6"
    }
  },
  "cells": [
    {
      "cell_type": "markdown",
      "metadata": {
        "id": "view-in-github",
        "colab_type": "text"
      },
      "source": [
        "<a href=\"https://colab.research.google.com/github/AliVillegas/Sistemas-Inteligentes/blob/master/EjerciciosPython1.ipynb\" target=\"_parent\"><img src=\"https://colab.research.google.com/assets/colab-badge.svg\" alt=\"Open In Colab\"/></a>"
      ]
    },
    {
      "cell_type": "markdown",
      "metadata": {
        "id": "yWUCMSJO9S9O",
        "colab_type": "text"
      },
      "source": [
        "[![Open In Colab](https://colab.research.google.com/assets/colab-badge.svg)](https://colab.research.google.com/github/MauricioRR-Tec/Sistemas-Inteligentes/blob/master/Notebooks/practica_1_python.ipynb)"
      ]
    },
    {
      "cell_type": "markdown",
      "metadata": {
        "colab_type": "text",
        "id": "4zMzLuXxBDdY"
      },
      "source": [
        "# Ejercicios bases de Python"
      ]
    },
    {
      "cell_type": "markdown",
      "metadata": {
        "colab_type": "text",
        "id": "HAY8IBC4dM62"
      },
      "source": [
        "## Estructuras, asignación y funciones"
      ]
    },
    {
      "cell_type": "markdown",
      "metadata": {
        "colab_type": "text",
        "id": "5OKzkyU6_1kB"
      },
      "source": [
        "### 1. Creando una agenda \n",
        "\n",
        "Utiliza los conceptos básicos de python para crear una agenda telefónica. Deberás completar las funciones crear_agenda, agregar_contacto, eliminimar_contacto y buscar_contacto que se encuentran en las siguientes celdas.\n",
        "\n",
        "* ```crear_agenda()```, esta función devuelve una nueva agenda vacía, elige el tipo de dato que creas adecuado para este proposito.\n",
        "* ```agregar_contacto(agenda, nombre, numero)```, esta función debe permitir agregar un nuevo contacto a la agenda, además si un contacto ya existe con el nombre recibido entonces debes almacenar su nuevo numero sin eliminar el anterior.\n",
        "* ```buscar_contacto(agenda, nombre)```, esta función debe de regresar el o los números registados de un contacto, si el contacto no existe entonces imprimer el mensaje \"Contacto no encontrado en la agenda\".\n",
        "* ```eliminar_contacto(agenda, nombre)```, esta función permite eliminar a un contacto de la agenda, si el contacto no existe entonces imprimer el mensaje \"Contacto no encontrado en la agenda\"."
      ]
    },
    {
      "cell_type": "code",
      "metadata": {
        "id": "GQuuU0uh9S9P",
        "colab_type": "code",
        "colab": {}
      },
      "source": [
        "def crear_agenda():\n",
        "    agenda = {}\n",
        "    return agenda"
      ],
      "execution_count": 51,
      "outputs": []
    },
    {
      "cell_type": "code",
      "metadata": {
        "colab_type": "code",
        "id": "QjsW0Y_M_x4j",
        "colab": {}
      },
      "source": [
        "def agregar_contacto(agenda, nombre, numero):\n",
        "    \"\"\"\n",
        "    Tip:\n",
        "    Primero debes comprobar si existe el contacto\n",
        "    si no existe entonces crea uno nuevo y guarda\n",
        "    su nombre y numero\"\"\"\n",
        "    if nombre in agenda:\n",
        "      print(\"Usuario ya existe en la agenda\")\n",
        "    else:\n",
        "      agenda[nombre] = numero\n",
        "      print(\"Nuevo usuario agregado\", agenda)\n",
        "    return agenda"
      ],
      "execution_count": 52,
      "outputs": []
    },
    {
      "cell_type": "code",
      "metadata": {
        "id": "0HhOGr9w9S9T",
        "colab_type": "code",
        "colab": {
          "base_uri": "https://localhost:8080/",
          "height": 52
        },
        "outputId": "7c11a461-2361-47b5-f00a-7e1efd112dd1"
      },
      "source": [
        "agenda = crear_agenda()\n",
        "agenda = agregar_contacto(agenda, \"Javier\", \"1234567890\")\n",
        "agenda = agregar_contacto(agenda, \"Ali\", \"1234567890,5951044665\")"
      ],
      "execution_count": 53,
      "outputs": [
        {
          "output_type": "stream",
          "text": [
            "Nuevo usuario agregado {'Javier': '1234567890'}\n",
            "Nuevo usuario agregado {'Javier': '1234567890', 'Ali': '1234567890,5951044665'}\n"
          ],
          "name": "stdout"
        }
      ]
    },
    {
      "cell_type": "code",
      "metadata": {
        "id": "6vtkFWpr9S9V",
        "colab_type": "code",
        "colab": {}
      },
      "source": [
        "def buscar_contacto(agenda, nombre):\n",
        "    if nombre in agenda:\n",
        "      print(\"%s : %s\" % (nombre, agenda[nombre]))\n",
        "    else:\n",
        "      print(\"Contacto no encontrado en la agenda\")\n",
        "    \"\"\"\n",
        "    Busca el contacto en la agenda, imprime su nombre y numero\n",
        "    Si tiene mas de un numero, imprime todos\n",
        "    Si el contacto no existe, imprime \"Contacto no encontrado en la agenda\"\n",
        "    \"\"\"\n",
        "    \n",
        "    return"
      ],
      "execution_count": 54,
      "outputs": []
    },
    {
      "cell_type": "code",
      "metadata": {
        "id": "ECtxkB2Z9S9X",
        "colab_type": "code",
        "colab": {
          "base_uri": "https://localhost:8080/",
          "height": 69
        },
        "outputId": "36beaca7-1478-4953-cebe-aa93dd6f66d5"
      },
      "source": [
        "buscar_contacto(agenda, \"Javier\")\n",
        "agenda = agregar_contacto(agenda, \"Javier\", \"0987654321\")\n",
        "buscar_contacto(agenda, \"Javier\")"
      ],
      "execution_count": 55,
      "outputs": [
        {
          "output_type": "stream",
          "text": [
            "Javier : 1234567890\n",
            "Usuario ya existe en la agenda\n",
            "Javier : 1234567890\n"
          ],
          "name": "stdout"
        }
      ]
    },
    {
      "cell_type": "code",
      "metadata": {
        "id": "zkpJifeW9S9Z",
        "colab_type": "code",
        "colab": {}
      },
      "source": [
        "def eliminar_contacto(agenda, nombre):\n",
        "\n",
        "    if nombre in agenda:\n",
        "      agenda.pop(nombre)\n",
        "      print(\"%s se ha eliminado de la agenda \" % (nombre))\n",
        "    else:\n",
        "      print(\"Contacto no encontrado en la agenda\")\n",
        "    \"\"\"\n",
        "    Elimina el contacto de la agenda\n",
        "    si el contacto no existe imprime \"Contacto no encontrado en la agenda\"\n",
        "    \"\"\"\n",
        "    #<rellena>\n",
        "    return agenda"
      ],
      "execution_count": 56,
      "outputs": []
    },
    {
      "cell_type": "code",
      "metadata": {
        "colab_type": "code",
        "id": "RkNtzllbBirX",
        "colab": {
          "base_uri": "https://localhost:8080/",
          "height": 35
        },
        "outputId": "01336735-e8dc-4866-8e51-ebe069f562b8"
      },
      "source": [
        "agenda = eliminar_contacto(agenda, \"Javier\")"
      ],
      "execution_count": null,
      "outputs": [
        {
          "output_type": "stream",
          "text": [
            "Javier se ha eliminado de la agenda \n"
          ],
          "name": "stdout"
        }
      ]
    },
    {
      "cell_type": "markdown",
      "metadata": {
        "colab_type": "text",
        "id": "3nzzkH6EA88D"
      },
      "source": [
        "# Ejercicios estadística"
      ]
    },
    {
      "cell_type": "markdown",
      "metadata": {
        "colab_type": "text",
        "id": "e5g5CAaOc01h"
      },
      "source": [
        "### Función suma\n",
        "\n",
        "$$\n",
        "    suma(a) = \\sum_{i=1}^{n}a_i\n",
        "$$"
      ]
    },
    {
      "cell_type": "code",
      "metadata": {
        "colab_type": "code",
        "id": "RxWbpZ42c07g",
        "colab": {}
      },
      "source": [
        "def suma(x):\n",
        "    suma = 0\n",
        "    if len(x) is not 1:\n",
        "      for num in x:\n",
        "        suma += num\n",
        "    else:\n",
        "      suma = x[0]\n",
        "      \n",
        "    return suma"
      ],
      "execution_count": 57,
      "outputs": []
    },
    {
      "cell_type": "code",
      "metadata": {
        "id": "l7BFvOiL9S9g",
        "colab_type": "code",
        "colab": {}
      },
      "source": [
        "assert suma([1, 2, 3, 4, 5]) == 15"
      ],
      "execution_count": 58,
      "outputs": []
    },
    {
      "cell_type": "markdown",
      "metadata": {
        "colab_type": "text",
        "id": "Hc30xEPMc1QC"
      },
      "source": [
        "### Función promedio.\n",
        "\n",
        "$$\n",
        "\t\\bar{x} = \\dfrac{\\sum_{i=1}^{n}x_i}{n}\n",
        "$$"
      ]
    },
    {
      "cell_type": "code",
      "metadata": {
        "colab_type": "code",
        "id": "2KyU6PyCc1VM",
        "colab": {}
      },
      "source": [
        "def promedio(x):\n",
        "    promedio = suma(x)/len(x)\n",
        "    return promedio"
      ],
      "execution_count": 59,
      "outputs": []
    },
    {
      "cell_type": "code",
      "metadata": {
        "id": "7XJjR4vf9S9j",
        "colab_type": "code",
        "colab": {}
      },
      "source": [
        "assert promedio([1, 2, 3, 4, 5]) == 3, \"Error en promedio\""
      ],
      "execution_count": 60,
      "outputs": []
    },
    {
      "cell_type": "markdown",
      "metadata": {
        "colab_type": "text",
        "id": "ImMoE5w4c1of"
      },
      "source": [
        "### Función varianza.\n",
        "$$\n",
        "\\sigma^2 = \\frac{1}{n} \\sum_{i=1}^{n}(x_i - \\bar{x})^2\n",
        "$$"
      ]
    },
    {
      "cell_type": "code",
      "metadata": {
        "colab_type": "code",
        "id": "h0w2PHhLc1tG",
        "colab": {}
      },
      "source": [
        "def var(x):\n",
        "    var = 0\n",
        "    avg = promedio(x)\n",
        "    for num in x:\n",
        "      var += (avg - num)**2\n",
        "    var = var/len(x)\n",
        "    return var"
      ],
      "execution_count": 61,
      "outputs": []
    },
    {
      "cell_type": "code",
      "metadata": {
        "id": "cDl6-GmR9S9n",
        "colab_type": "code",
        "colab": {}
      },
      "source": [
        "assert var([1, 2, 3, 4, 5]) == 2, \"Error en var\""
      ],
      "execution_count": 62,
      "outputs": []
    },
    {
      "cell_type": "markdown",
      "metadata": {
        "colab_type": "text",
        "id": "fxxJeFhbA9Cq"
      },
      "source": [
        "# Ejercicios álgebra lineal"
      ]
    },
    {
      "cell_type": "markdown",
      "metadata": {
        "colab_type": "text",
        "id": "6dXp-owNeqP9"
      },
      "source": [
        "## Vectores con listas"
      ]
    },
    {
      "cell_type": "markdown",
      "metadata": {
        "colab_type": "text",
        "id": "9Du0_NsNc81H"
      },
      "source": [
        "### Ones"
      ]
    },
    {
      "cell_type": "markdown",
      "metadata": {
        "colab_type": "text",
        "id": "DKp9wDLPEZdz"
      },
      "source": [
        "Completa la función ones1D que recibe como parámetros un entero $n$ y retorna una lista de tamaño $n$ con todos sus elementos con el valor $1$.\n",
        "\n",
        "Ejemplo:\n",
        "\n",
        "```\n",
        ">>> ones(5)\n",
        "[1, 1, 1, 1, 1]\n",
        "```\n",
        "\n"
      ]
    },
    {
      "cell_type": "code",
      "metadata": {
        "colab_type": "code",
        "id": "l4j5ka46EulY",
        "colab": {}
      },
      "source": [
        "def ones_1d(n):\n",
        "    ones_list = []\n",
        "    for  x in range(0, n):\n",
        "      ones_list.append(1)\n",
        "    return ones_list  "
      ],
      "execution_count": 63,
      "outputs": []
    },
    {
      "cell_type": "markdown",
      "metadata": {
        "colab_type": "text",
        "id": "TBYV7LYqdSJo"
      },
      "source": [
        "Ejecuta la siguiente celda para comprobar la función ones1D:"
      ]
    },
    {
      "cell_type": "code",
      "metadata": {
        "colab_type": "code",
        "id": "QUlEotVIdRno",
        "colab": {
          "base_uri": "https://localhost:8080/",
          "height": 35
        },
        "outputId": "57557fbc-a9f6-4425-d2c9-241a75200103"
      },
      "source": [
        "assert len(ones_1d(10)) == 10 and  ones_1d(3).count(1) == 3 and sum(ones_1d(5)) == 5  , \"error en la funcion ones_1d\"\n",
        "print(\"La funcion es correcta\")"
      ],
      "execution_count": 64,
      "outputs": [
        {
          "output_type": "stream",
          "text": [
            "La funcion es correcta\n"
          ],
          "name": "stdout"
        }
      ]
    },
    {
      "cell_type": "markdown",
      "metadata": {
        "id": "GCWEEgmj9S9t",
        "colab_type": "text"
      },
      "source": [
        "### Ones 2D"
      ]
    },
    {
      "cell_type": "markdown",
      "metadata": {
        "colab_type": "text",
        "id": "lxOMWQXXEZp3"
      },
      "source": [
        "Completa la función ones_2d que recibe como parámetros un entero $n$ y un entero $m$ y retorna una lista con $n$ sub-listas cada una de tamaño $m$ con todos sus elementos con el valor 1. En otras palabras, una matriz $n \\times m$ con sus elementos iniciados con valor $1$.\n",
        "\n",
        "Ejemplo:\n",
        "\n",
        "\n",
        "\n",
        "```\n",
        ">>> ones_2d(2, 3)\n",
        "[[1, 1, 1], [1, 1, 1]]\n",
        "```\n",
        "\n"
      ]
    },
    {
      "cell_type": "code",
      "metadata": {
        "colab_type": "code",
        "id": "-xfFmttxFRCw",
        "colab": {}
      },
      "source": [
        "def ones_2d(m, n):\n",
        "    ones_2 = []\n",
        "    for x in range(0,m):\n",
        "      ones_11 = []\n",
        "      for y in range(0,n):\n",
        "        ones_11.append(1)\n",
        "      ones_2.append(ones_11)\n",
        "    return ones_2"
      ],
      "execution_count": 65,
      "outputs": []
    },
    {
      "cell_type": "markdown",
      "metadata": {
        "colab_type": "text",
        "id": "yugjWXI9eI4P"
      },
      "source": [
        "Ejecuta la siguiente celda para comprobar la función ones2D:"
      ]
    },
    {
      "cell_type": "code",
      "metadata": {
        "colab_type": "code",
        "id": "i7sZXWsveJBC",
        "colab": {
          "base_uri": "https://localhost:8080/",
          "height": 35
        },
        "outputId": "8b708f7f-ed17-4513-cbcf-bc1568af517d"
      },
      "source": [
        "assert len(ones_2d(2, 3)) == 2 and len(ones_2d(2, 3)[0]) == 3 and sum([x_i for sl in ones_2d(3, 2) for x_i in sl]) == 6 , \"error en la funcion ones_2d\"\n",
        "print(\"La funcion es correcta\")"
      ],
      "execution_count": 66,
      "outputs": [
        {
          "output_type": "stream",
          "text": [
            "La funcion es correcta\n"
          ],
          "name": "stdout"
        }
      ]
    },
    {
      "cell_type": "markdown",
      "metadata": {
        "id": "k-kAkPcg9S9x",
        "colab_type": "text"
      },
      "source": [
        "### Producto punto (inner)"
      ]
    },
    {
      "cell_type": "markdown",
      "metadata": {
        "id": "fBp2AFJk9S9x",
        "colab_type": "text"
      },
      "source": [
        "Completa la función ones_2d que recibe como parametros dos listas a, b de la misma longitúd y retorna el producto punto de ambos.\n",
        "\n",
        "El producto punto está definido como:\n",
        "\n",
        "$$a = [a_1 a_2 ... a_n] \\: y \\: b = [b_1 b_2 ... b_n]$$\n",
        "\n",
        "$$\n",
        "a \\cdot b = a_1*b_1 + a_2*b_2 + \\dots + a_n*b_n\n",
        "$$"
      ]
    },
    {
      "cell_type": "code",
      "metadata": {
        "colab_type": "code",
        "id": "OvNCcnXLBBc0",
        "colab": {}
      },
      "source": [
        "def inner(a, b):\n",
        "    productoP = 0\n",
        "    counter = 0\n",
        "    for numA in a:\n",
        "      productoP += (numA*b[counter])\n",
        "      counter +=1\n",
        "\n",
        "    print(productoP)\n",
        "    return productoP\n"
      ],
      "execution_count": 67,
      "outputs": []
    },
    {
      "cell_type": "code",
      "metadata": {
        "id": "31zKYY479S9z",
        "colab_type": "code",
        "colab": {
          "base_uri": "https://localhost:8080/",
          "height": 52
        },
        "outputId": "55cb3d70-8008-483b-f2fc-aa367ea7c871"
      },
      "source": [
        "assert inner([1, 2, 3], [1, 2 ,3]) == 14, \"Error en inner\"\n",
        "print(\"Correcto\")"
      ],
      "execution_count": 68,
      "outputs": [
        {
          "output_type": "stream",
          "text": [
            "14\n",
            "Correcto\n"
          ],
          "name": "stdout"
        }
      ]
    },
    {
      "cell_type": "markdown",
      "metadata": {
        "colab_type": "text",
        "id": "6B7dwCC7eqnL"
      },
      "source": [
        "## Matrices con listas de listas"
      ]
    },
    {
      "cell_type": "markdown",
      "metadata": {
        "colab_type": "text",
        "id": "l36RNkUqexzU"
      },
      "source": [
        "### Matriz identidad\n",
        "$$\n",
        "\tI_{ij} = \\begin{cases}\n",
        "\t\t1 & i=j\\\\\n",
        "\t\t0 & i \\neq j\\\\\n",
        "\t\\end{cases}\n",
        "$$"
      ]
    },
    {
      "cell_type": "code",
      "metadata": {
        "colab_type": "code",
        "id": "afcnX6E_eqvP",
        "colab": {}
      },
      "source": [
        "def eye(n):\n",
        "    '''\n",
        "    Esta funcion debe regresar la matriz identidad de tamano nxn\n",
        "    '''\n",
        "    I = []\n",
        "    subI = []\n",
        "    counterI = 0\n",
        "    for x in range(0,n):\n",
        "      for x in range(0,n):\n",
        "        subI.append(0)\n",
        "      subI[counterI] = 1\n",
        "      I.append(subI)\n",
        "      subI = []\n",
        "      counterI+=1\n",
        "    return I"
      ],
      "execution_count": 69,
      "outputs": []
    },
    {
      "cell_type": "code",
      "metadata": {
        "id": "4Oh0VIah9S92",
        "colab_type": "code",
        "colab": {
          "base_uri": "https://localhost:8080/",
          "height": 35
        },
        "outputId": "f0f95354-395e-4ff4-eaaa-06a5801ebbc8"
      },
      "source": [
        "assert eye(2) == [[1, 0], [0, 1]], \"Error en eye\"\n",
        "print(\"Función eye es correcta\")"
      ],
      "execution_count": 70,
      "outputs": [
        {
          "output_type": "stream",
          "text": [
            "Función eye es correcta\n"
          ],
          "name": "stdout"
        }
      ]
    },
    {
      "cell_type": "markdown",
      "metadata": {
        "colab_type": "text",
        "id": "jLXu_k7CfCqF"
      },
      "source": [
        "### Matriz transpuesta\n",
        "\n",
        "$$C = A^T \\Leftrightarrow c_{ij} = a{ji}$$\n",
        "\n",
        "Por ejemplo, si:\n",
        "\t$$\n",
        "\tA = \\begin{bmatrix}\n",
        "\ta_{11} & a_{12}  \\\\\n",
        "\ta_{21} & a_{22}  \\\\\n",
        "\ta_{31} & a_{32}  \\\\\n",
        "\t\\end{bmatrix}\n",
        "\t$$\n",
        "\tentonces\n",
        "\t$$\n",
        "\tA^T = \\begin{bmatrix}\n",
        "\ta_{11} & a_{21} & a_{31} \\\\\n",
        "\ta_{12} & a_{22} & a_{32} \\\\\n",
        "\t\\end{bmatrix}\n",
        "\t$$"
      ]
    },
    {
      "cell_type": "code",
      "metadata": {
        "colab_type": "code",
        "id": "zKWY09JhfEfa",
        "colab": {}
      },
      "source": [
        "def traspose(A):\n",
        "    \n",
        "    A_t = [[A[y][x] for y in range(len(A))] for x in range(len(A[0]))]\n",
        "    print(tuple(A_t))\n",
        "    \n",
        "    return A_t"
      ],
      "execution_count": 71,
      "outputs": []
    },
    {
      "cell_type": "code",
      "metadata": {
        "id": "7TSBLlx29S96",
        "colab_type": "code",
        "colab": {
          "base_uri": "https://localhost:8080/",
          "height": 35
        },
        "outputId": "85fea955-6faa-4c28-b391-d04f2e279e46"
      },
      "source": [
        "assert traspose([[1, 2], [3, 4], [5, 6]]) == [[1, 3, 5], [2, 4, 6]], \"Error en traspose\"\n"
      ],
      "execution_count": 72,
      "outputs": [
        {
          "output_type": "stream",
          "text": [
            "([1, 3, 5], [2, 4, 6])\n"
          ],
          "name": "stdout"
        }
      ]
    },
    {
      "cell_type": "markdown",
      "metadata": {
        "id": "EUqwfJEq9S97",
        "colab_type": "text"
      },
      "source": [
        "### Valida multiplicación\n",
        "\n",
        "```True``` si\n",
        "$$A \\qquad es \\qquad mxn$$\n",
        "y\n",
        "$$B \\qquad es \\qquad nxp$$\n",
        "```False``` en otro caso"
      ]
    },
    {
      "cell_type": "code",
      "metadata": {
        "id": "ycw6Evtu9S98",
        "colab_type": "code",
        "colab": {}
      },
      "source": [
        "def validate_mat_mul(A, B):\n",
        "    val = False\n",
        "    filasA = 0\n",
        "    filasB = 0\n",
        "    colA = 0\n",
        "    colB = 0\n",
        "    colCounter = True \n",
        "    for x in A:\n",
        "      for y in x:\n",
        "          if colCounter:\n",
        "            colA +=1\n",
        "      filasA += 1\n",
        "      colCounter = False\n",
        "\n",
        "    colCounter = True\n",
        "    for x in B:\n",
        "      for y in x:\n",
        "          if colCounter:\n",
        "            colB +=1\n",
        "      filasB +=1\n",
        "      colCounter = False\n",
        "    print('A %s x %s' %(filasA,colA))\n",
        "    print('B %s x %s' %(filasB,colB))\n",
        "    print('----------------')\n",
        "    if colA is filasB:\n",
        "      val = True\n",
        "    else: \n",
        "      val = False\n",
        "    return val"
      ],
      "execution_count": 80,
      "outputs": []
    },
    {
      "cell_type": "code",
      "metadata": {
        "id": "woZ3Hj7u9S99",
        "colab_type": "code",
        "colab": {
          "base_uri": "https://localhost:8080/",
          "height": 173
        },
        "outputId": "5821381e-207f-4011-f462-1784fb0d4fe6"
      },
      "source": [
        "assert validate_mat_mul([[1, 2], [3, 4]], [[5, 6], [7, 8]]) and \\\n",
        "validate_mat_mul([[1, 2], [3, 4], [5, 6]], [[1, 2, 3], [4, 5, 6]]) and \\\n",
        "not validate_mat_mul([[1, 2, 3], [4, 5, 6], [7, 8, 9]], [[1, 2], [3, 4]]), \"Error en validate_mat_mul\""
      ],
      "execution_count": 81,
      "outputs": [
        {
          "output_type": "stream",
          "text": [
            "A 2 x 2\n",
            "B 2 x 2\n",
            "----------------\n",
            "A 3 x 2\n",
            "B 2 x 3\n",
            "----------------\n",
            "A 3 x 3\n",
            "B 2 x 2\n",
            "----------------\n"
          ],
          "name": "stdout"
        }
      ]
    },
    {
      "cell_type": "markdown",
      "metadata": {
        "colab_type": "text",
        "id": "RY2TgoGye3pV"
      },
      "source": [
        "### Multiplicación de matrices\n",
        "\n",
        "Si $A \\in \\mathbb{R}^{m \\times n}$ y $B \\in \\mathbb{R}^{n \\times p}$ entonces:\n",
        "$$\n",
        "C = A B \\in \\mathbb{R}^{m \\times p}\\Leftrightarrow c_{ij} = \\sum_{k=1}^{n}a_{ik} b_{kj}\n",
        "$$"
      ]
    },
    {
      "cell_type": "code",
      "metadata": {
        "colab_type": "code",
        "id": "DxFQFm51e-A1",
        "colab": {}
      },
      "source": [
        "def mat_mul(A, B):\n",
        "    #checar si se puede hacer la mul \n",
        "    filasA = 0\n",
        "    filasB = 0\n",
        "    colA = 0\n",
        "    colB = 0\n",
        "    colCounter = True \n",
        "    for x in A:\n",
        "      for y in x:\n",
        "          if colCounter:\n",
        "            colA +=1\n",
        "      filasA += 1\n",
        "      colCounter = False\n",
        "\n",
        "    colCounter = True\n",
        "    for x in B:\n",
        "      for y in x:\n",
        "          if colCounter:\n",
        "            colB +=1\n",
        "      filasB +=1\n",
        "      colCounter = False\n",
        "    #multiplicación\n",
        "    C = []\n",
        "    for x in range(0,filasA):\n",
        "      valCol = []\n",
        "      for y in range(0,colB):\n",
        "        valCol.append(0)\n",
        "      C.append(valCol)\n",
        "      valCol = []\n",
        "    for i in range(filasA): \n",
        "      for j in range(colB): \n",
        "          for k in range(filasB): \n",
        "              C[i][j] += A[i][k] * B[k][j] \n",
        "    print(tuple(C))\n",
        "    return C\n"
      ],
      "execution_count": 84,
      "outputs": []
    },
    {
      "cell_type": "code",
      "metadata": {
        "id": "Po29tc-C9S-B",
        "colab_type": "code",
        "colab": {
          "base_uri": "https://localhost:8080/",
          "height": 69
        },
        "outputId": "6d3b071f-76b7-4d63-fb71-e51414ef37f4"
      },
      "source": [
        "assert mat_mul([[4, 4], [4, 4]], [[5, 5], [5, 5]]) == [[40, 40], [40, 40]], \"Error en mat_mul\"\n",
        "assert mat_mul([[1, 2], [3, 4], [5, 6]], [[2, 2], [2, 2]]) == [[6, 6], [14, 14], [22, 22]], \"Error en mat_mul\""
      ],
      "execution_count": 83,
      "outputs": [
        {
          "output_type": "stream",
          "text": [
            "([40, 40], [40, 40])\n",
            "Multiplicación no es válida 'resultado no lineal' \n",
            "([6, 6], [14, 14], [22, 22])\n"
          ],
          "name": "stdout"
        }
      ]
    }
  ]
}